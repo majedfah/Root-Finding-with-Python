{
 "cells": [
  {
   "cell_type": "code",
   "execution_count": 1,
   "metadata": {},
   "outputs": [],
   "source": [
    "import numpy as np \n",
    "import sympy as sy \n",
    "import matplotlib.pyplot as plt \n",
    "import scipy.optimize as sc\n",
    "import sys\n",
    "import time \n",
    "%matplotlib inline "
   ]
  },
  {
   "cell_type": "code",
   "execution_count": 2,
   "metadata": {},
   "outputs": [
    {
     "data": {
      "image/png": "[encoded data removed]",
      "text/plain": [
       "<Figure size 864x576 with 1 Axes>"
      ]
     },
     "metadata": {
      "needs_background": "light"
     },
     "output_type": "display_data"
    }
   ],
   "source": [
    "x = np.linspace(-8,8,300)\n",
    "\n",
    "y = 4*x**2+3*x-3\n",
    "\n",
    "fig = plt.subplots(figsize=(12,8))\n",
    "plt.plot(x,y,label = '$f{(x)} = 4x^2+3x-3$')\n",
    "plt.plot(x,x*0,'r')\n",
    "plt.title(\"$f{(x)} = 4x^2+3x-3$\",fontsize=19)\n",
    "plt.xlabel('x-axis')\n",
    "plt.ylabel('y-axis')\n",
    "plt.grid()\n",
    "plt.legend()\n",
    "plt.show()"
   ]
  },
  {
   "cell_type": "markdown",
   "metadata": {},
   "source": [
    "- So, from the graph we can see that the function cross the x-axis and there are two roots of the function.\n",
    "    - $x = -1.3187293708324432$ & $x = 0.5687291920185089 $\n",
    "- We will use different methods to find the roots of the function. "
   ]
  },
  {
   "cell_type": "markdown",
   "metadata": {},
   "source": [
    "- ### Finding roots using Scipy library"
   ]
  },
  {
   "cell_type": "code",
   "execution_count": 3,
   "metadata": {},
   "outputs": [
    {
     "name": "stdout",
     "output_type": "stream",
     "text": [
      "0.5687293044081798\n",
      "0.5687293044088438\n",
      "[-1.3187293]\n",
      "[0.5687293]\n"
     ]
    }
   ],
   "source": [
    "\n",
    "# Algorithms from the scipy library. \n",
    "# Scipy is a famous library for scientific computing.\n",
    "# In this notebook i called it as -> import scipy.optimize as sc \n",
    "\n",
    "# These are methods which have been already written in scipy.\n",
    "\n",
    "\n",
    "f = lambda x:4*x**2+3*x-3\n",
    "\n",
    "\n",
    "print(sc.bisect(f,0,10))\n",
    "print(sc.newton(f,9))\n",
    "print(sc.fsolve(f,-10))\n",
    "print(sc.fsolve(f,10))\n",
    "\n"
   ]
  },
  {
   "cell_type": "markdown",
   "metadata": {},
   "source": [
    "## Iterative Method (Fixed point method)\n",
    "\n",
    "- The iterative method for finding a root for a function f(x) = 0 , is simple you have for example function $f(x) = 4x^2+3x-3$ , you need to write the function in the form of $4x^2+3x-3=0$, and solve for $x$. \n",
    "- You can use algebra to solve for $x$ here, for instance we can write the function in term of $x$; $x= \\sqrt \\frac {3-3x}{4}$\n",
    "- And then start with an initial guess of $x_i = 0$ in $x= \\sqrt \\frac {3-3x}{4}$, until $x = x_i$\n"
   ]
  },
  {
   "cell_type": "code",
   "execution_count": 4,
   "metadata": {},
   "outputs": [
    {
     "name": "stdout",
     "output_type": "stream",
     "text": [
      "Root is 0.5687289155114058 \n",
      "Number of iterations is 33 \n",
      "Error bound is 9.787035545327782e-07\n"
     ]
    }
   ],
   "source": [
    "# iterative method for finding a root for the function f(x) = 4*x**2 + 3*x -3 \n",
    "\n",
    "xi = 0\n",
    "\n",
    "for i in range(100):\n",
    "    x = np.sqrt((3-3*xi)/4)\n",
    "\n",
    "    error = abs(x-xi)\n",
    "\n",
    "    if error < 1e-6:\n",
    "        break \n",
    "    xi = x \n",
    "print(f\"Root is {x} \\nNumber of iterations is {i} \\nError bound is {error}\")"
   ]
  },
  {
   "cell_type": "markdown",
   "metadata": {},
   "source": [
    "## Bisection Method \n",
    "\n",
    "- ####  If we have a lower bound $x_l$ and an upper bound $x_u$, and $f(x_l)f(x_u)$ < 0 we have at least one root.\n",
    " - #### Take $x_m = \\frac {x_l+xu}{2}$ as the midpoint:\n",
    "    - If $f(x_l)f(x_m)$< 0 then $x_u$ = $x_m$ and $x_l$ remains the same.so, there is a root in ($x_l$,$x_m$).\n",
    "    - If $f(x_l)f(x_m)$>0 then $x_l = x_m$ and $x_u$ remains the same. so, there is a root in $(x_m,x_u)$\n"
   ]
  },
  {
   "cell_type": "markdown",
   "metadata": {},
   "source": [
    "![alt text](https://encrypted-tbn0.gstatic.com/images?q=tbn:ANd9GcSgXZm-YzayZb38xF7kanN5dsYzOjEKsoE7wA&usqp=CAU)"
   ]
  },
  {
   "cell_type": "code",
   "execution_count": 5,
   "metadata": {},
   "outputs": [
    {
     "ename": "NameError",
     "evalue": "name 'f1' is not defined",
     "output_type": "error",
     "traceback": [
      "\u001b[0;31m---------------------------------------------------------------------------\u001b[0m",
      "\u001b[0;31mNameError\u001b[0m                                 Traceback (most recent call last)",
      "\u001b[0;32m<ipython-input-5-9af85d60b3a0>\u001b[0m in \u001b[0;36m<module>\u001b[0;34m\u001b[0m\n\u001b[1;32m     26\u001b[0m \u001b[0;34m\u001b[0m\u001b[0m\n\u001b[1;32m     27\u001b[0m \u001b[0;34m\u001b[0m\u001b[0m\n\u001b[0;32m---> 28\u001b[0;31m \u001b[0mmy_bisection\u001b[0m\u001b[0;34m(\u001b[0m\u001b[0mf1\u001b[0m\u001b[0;34m,\u001b[0m\u001b[0;36m0\u001b[0m\u001b[0;34m,\u001b[0m\u001b[0;36m10\u001b[0m\u001b[0;34m)\u001b[0m\u001b[0;34m\u001b[0m\u001b[0;34m\u001b[0m\u001b[0m\n\u001b[0m\u001b[1;32m     29\u001b[0m \u001b[0mprint\u001b[0m\u001b[0;34m(\u001b[0m\u001b[0;34m\"Scipy is \"\u001b[0m\u001b[0;34m,\u001b[0m\u001b[0msc\u001b[0m\u001b[0;34m.\u001b[0m\u001b[0mbisect\u001b[0m\u001b[0;34m(\u001b[0m\u001b[0mf1\u001b[0m\u001b[0;34m,\u001b[0m\u001b[0;36m0\u001b[0m\u001b[0;34m,\u001b[0m\u001b[0;36m20\u001b[0m\u001b[0;34m)\u001b[0m\u001b[0;34m)\u001b[0m\u001b[0;34m\u001b[0m\u001b[0;34m\u001b[0m\u001b[0m\n",
      "\u001b[0;31mNameError\u001b[0m: name 'f1' is not defined"
     ]
    }
   ],
   "source": [
    "def my_bisection(f,x1,x2,tol=1e-6):\n",
    "    f1 = f(x1)\n",
    "    f2 = f(x2)\n",
    "\n",
    "    if f1*f2> 0:\n",
    "        raise Exception(\"Error,x1 and x2 must have different signs\")\n",
    "\n",
    "    for i in range(1,101):\n",
    "        xm = (x1+x2)/2\n",
    "        fm = f(xm)\n",
    "        f1 = f(x1)\n",
    "\n",
    "        error = x2 - x1\n",
    "        \n",
    "        if abs(f1) < tol:\n",
    "            break\n",
    "\n",
    "        if f1*fm<0:\n",
    "            x2 = xm \n",
    "        else:\n",
    "            x1 = xm \n",
    "\n",
    "    print(f\"Root is {(x1)} \\nNumber of iterations is {i} \\nError is {error}\")\n",
    "\n",
    "\n",
    "\n",
    "\n",
    "my_bisection(f1,0,10)\n",
    "print(\"Scipy is \",sc.bisect(f1,0,20))"
   ]
  },
  {
   "cell_type": "code",
   "execution_count": null,
   "metadata": {},
   "outputs": [
    {
     "data": {
      "text/plain": [
       "'Root is x = 0.5687293046503328 Number of iterations is  35 Error is 5.820766091346741e-10'"
      ]
     },
     "execution_count": 29,
     "metadata": {},
     "output_type": "execute_result"
    }
   ],
   "source": [
    "# this is the bisection method with while loop \n",
    "def bisection_while(f,a,b,tol):\n",
    "    fa = f(a)\n",
    "    fb = f(b)\n",
    "\n",
    "    error = abs(b-a)\n",
    "\n",
    "    i = 0 \n",
    "\n",
    "    while error > tol:\n",
    "        m = (a+b)/2\n",
    "        fm = f(m)\n",
    "        if fa * fb>0:\n",
    "            raise Exception(\"Error, function does not change signs\")\n",
    "\n",
    "        elif fa*fm < 0:\n",
    "            b = m \n",
    "\n",
    "            error = abs(b-a)\n",
    "\n",
    "        else:\n",
    "            a = m\n",
    "            \n",
    "            error = abs(b-a)\n",
    "\n",
    "        i +=1\n",
    "        m = (a+b)/2\n",
    "\n",
    "    return (f\"Root is x = {m} Number of iterations is  {i} Error is {error}\" )\n",
    "\n",
    "\n",
    "bisection_while(f,0,20,1e-9)\n"
   ]
  },
  {
   "cell_type": "markdown",
   "metadata": {},
   "source": [
    "### False Position Method \n",
    "\n",
    "- False position method is the same as bisection method, you need to chooese two points that bracket a root,so you need to test the function if it is cross the x-axis in a given interval or not. \n",
    "\n",
    "- if $f(a)*f(c)<0$, $b_{new} = c$, $a = a $\n",
    "- if $f(a)*f(c)>0$, $a_{new} = c$ and $b=b$\n",
    "\n",
    "![alt text](https://sites.google.com/site/numericalprocesses20161/_/rsrc/1458597081915/home/practice-1/bracketing-methods/false-position/Sin%20t%C3%ADtulo.jpg)\n",
    "\n",
    "- But how can we find the point $c$ here; note that the slope at f(a) is the same as the slope at f(c) to f(b),hence\n",
    " - $c = a - \\frac {b-a} {f(b)-f(a)}f(a)$\n",
    " - Now we can test the function if it cross the x-axis and compute point c as shown below."
   ]
  },
  {
   "cell_type": "code",
   "execution_count": null,
   "metadata": {},
   "outputs": [
    {
     "name": "stdout",
     "output_type": "stream",
     "text": [
      "(0.5687293042868262, 123)\n"
     ]
    }
   ],
   "source": [
    "def my_false_position(f,a,b,tol=1e-9): # here we choose point a and point b \n",
    "    fa = f(a)\n",
    "    fb = f(b)\n",
    "\n",
    "    for i in range(1000):\n",
    "        c = a - (f(a)*(b-a)/(f(b)-f(a))) # now we compute the point c \n",
    "\n",
    "        fc = f(c)\n",
    "\n",
    "        if abs(fc) < tol: # here we check if the error is acceptable, tol = 1e-9 \n",
    "            break \n",
    "\n",
    "        elif fa * fb >0: # if the function do not cross the x-axis stop and exit. \n",
    "            raise Exception(\"Error, a and b must have different signs\")\n",
    "\n",
    "        elif fa*fc<0:  # here if the root is in the first half, update b , b_new = c \n",
    "            b = c \n",
    "\n",
    "        else:  # here if the root is in the second half , update a , a_new = c \n",
    "            a = c \n",
    "        \n",
    "    return c,i\n",
    "\n",
    "print(my_false_position(f,0,10))\n"
   ]
  },
  {
   "cell_type": "code",
   "execution_count": null,
   "metadata": {},
   "outputs": [
    {
     "name": "stdout",
     "output_type": "stream",
     "text": [
      "Root is 0.5687292997210207.\n",
      "Number of iterations is 104. \n",
      "Error is 9.381633248040089e-10\n"
     ]
    }
   ],
   "source": [
    "# False position with a while loop \n",
    "def fp_method(f,x1,x2,tol):\n",
    "\n",
    "    f1 = f(x1)\n",
    "    f2 = f(x2)\n",
    "\n",
    "    if f1*f2 > 0:\n",
    "            print(\"Error, x1 and x2 must have different signs\")\n",
    "            sys.exit(1)\n",
    "\n",
    "    xh_before = 0 \n",
    "    xh = x2 - (x2-x1)/(f2-f1) * f2\n",
    "    fh = f(xh)\n",
    "\n",
    "    i = 0 \n",
    "\n",
    "    error = abs(xh-xh_before)\n",
    "\n",
    "    while error > tol:\n",
    "        xh = x2 - (x2-x1)/(f2-f1) * f2\n",
    "        fh = f(xh)\n",
    "\n",
    "        if f1 * fh <0:\n",
    "            error = abs(xh - x2)\n",
    "            x2 = xh \n",
    "            f2 = fh \n",
    "            i +=1\n",
    "\n",
    "        else :\n",
    "            error = abs(xh - x1)\n",
    "            x1 = xh \n",
    "            f1 = fh \n",
    "            i+=1\n",
    "\n",
    "    print(f\"Root is {xh}.\\nNumber of iterations is {i}. \\nError is {error}\")\n",
    "    \n",
    "fp_method(f,0,10,1e-9)\n"
   ]
  },
  {
   "cell_type": "markdown",
   "metadata": {},
   "source": [
    "## Newton Raphson Method"
   ]
  },
  {
   "cell_type": "markdown",
   "metadata": {},
   "source": [
    "- Newton-Raphson's method, is a very famous and widely used method for solving nonlinear equations. \n",
    "- Compare to the other methods it is the fastest one. \n",
    "- ##### $$x_{i+1} = x_i -  \\frac {f(x_i)} {f'(x_i)}$$"
   ]
  },
  {
   "cell_type": "code",
   "execution_count": null,
   "metadata": {},
   "outputs": [
    {
     "name": "stdout",
     "output_type": "stream",
     "text": [
      "Root is 0.5687293044088721 \n",
      "Number of iterations is 8 \n",
      "Error bound 2.3180710084780287e-07\n"
     ]
    }
   ],
   "source": [
    "# Newton-Raphson method function , using for loop \n",
    "\n",
    "def newton_raphson(f,df,x0,tol=1e-6):\n",
    "\n",
    "    for i in range(100):\n",
    "        x = x0 - (f(x0))/(df(x0))\n",
    "\n",
    "        error = abs(x-x0)\n",
    "\n",
    "        if error <= tol:\n",
    "            break \n",
    "\n",
    "        x0 = x \n",
    "\n",
    "    return x,i,error\n",
    "\n",
    "\n",
    "f = lambda x:4*x**2+3*x-3\n",
    "df = lambda x:8*x + 3 \n",
    "\n",
    "sol = newton_raphson(f,df,30) \n",
    "\n",
    "print(f\"Root is {sol[0]} \\nNumber of iterations is {sol[1]} \\nError bound {sol[2]}\")"
   ]
  },
  {
   "cell_type": "code",
   "execution_count": null,
   "metadata": {},
   "outputs": [
    {
     "name": "stdout",
     "output_type": "stream",
     "text": [
      "Root is 0.5687293044088721 \n",
      "Number of iterations is 8 \n",
      "Error bound 2.3180710084780287e-07\n"
     ]
    }
   ],
   "source": [
    "# Newton-Raphson method, using while loop \n",
    "# This is the same, but with a while loop\n",
    "def newton_raphson2(f,df,x0,tol=1e-6):\n",
    "    i = 0 \n",
    "\n",
    "    while i<= 100:\n",
    "        x = x0 - (f(x0))/(df(x0))\n",
    "\n",
    "        error = abs(x-x0)\n",
    "\n",
    "        if error < tol:\n",
    "            break \n",
    "\n",
    "        x0 = x \n",
    "        i+=1\n",
    "\n",
    "    return x,i,error\n",
    "\n",
    "sol2 = newton_raphson2(f,df,30)\n",
    "print(f\"Root is {sol2[0]} \\nNumber of iterations is {sol2[1]} \\nError bound {sol2[2]}\")\n"
   ]
  },
  {
   "cell_type": "code",
   "execution_count": null,
   "metadata": {},
   "outputs": [],
   "source": []
  }
 ],
 "metadata": {
  "interpreter": {
   "hash": "036d8be161cb15b138fc00d9eecbe16625ad1503daa7ccf8d6b3e34fd228f959"
  },
  "kernelspec": {
   "display_name": "Python 3.8.8 64-bit ('base': conda)",
   "language": "python",
   "name": "python3"
  },
  "language_info": {
   "codemirror_mode": {
    "name": "ipython",
    "version": 3
   },
   "file_extension": ".py",
   "mimetype": "text/x-python",
   "name": "python",
   "nbconvert_exporter": "python",
   "pygments_lexer": "ipython3",
   "version": "3.8.8"
  },
  "orig_nbformat": 4
 },
 "nbformat": 4,
 "nbformat_minor": 2
}
